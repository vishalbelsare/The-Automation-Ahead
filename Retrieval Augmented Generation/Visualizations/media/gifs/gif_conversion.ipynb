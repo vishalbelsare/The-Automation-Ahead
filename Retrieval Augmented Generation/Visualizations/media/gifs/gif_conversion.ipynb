{
 "cells": [
  {
   "cell_type": "code",
   "execution_count": 2,
   "id": "78c52c19",
   "metadata": {},
   "outputs": [
    {
     "name": "stdout",
     "output_type": "stream",
     "text": [
      "Collecting moviepy\n",
      "  Using cached moviepy-2.2.1-py3-none-any.whl.metadata (6.9 kB)\n",
      "Requirement already satisfied: decorator<6.0,>=4.0.2 in /Users/brianpisaneschi/Library/CloudStorage/OneDrive-CFAInstitute/Coding/GitHub/The-Automation-Ahead/conda-env/lib/python3.11/site-packages (from moviepy) (5.2.1)\n",
      "Requirement already satisfied: imageio<3.0,>=2.5 in /Users/brianpisaneschi/Library/CloudStorage/OneDrive-CFAInstitute/Coding/GitHub/The-Automation-Ahead/conda-env/lib/python3.11/site-packages (from moviepy) (2.37.0)\n",
      "Requirement already satisfied: imageio_ffmpeg>=0.2.0 in /Users/brianpisaneschi/Library/CloudStorage/OneDrive-CFAInstitute/Coding/GitHub/The-Automation-Ahead/conda-env/lib/python3.11/site-packages (from moviepy) (0.6.0)\n",
      "Requirement already satisfied: numpy>=1.25.0 in /Users/brianpisaneschi/Library/CloudStorage/OneDrive-CFAInstitute/Coding/GitHub/The-Automation-Ahead/conda-env/lib/python3.11/site-packages (from moviepy) (2.2.4)\n",
      "Requirement already satisfied: proglog<=1.0.0 in /Users/brianpisaneschi/Library/CloudStorage/OneDrive-CFAInstitute/Coding/GitHub/The-Automation-Ahead/conda-env/lib/python3.11/site-packages (from moviepy) (0.1.12)\n",
      "Requirement already satisfied: python-dotenv>=0.10 in /Users/brianpisaneschi/Library/CloudStorage/OneDrive-CFAInstitute/Coding/GitHub/The-Automation-Ahead/conda-env/lib/python3.11/site-packages (from moviepy) (1.1.0)\n",
      "Requirement already satisfied: pillow<12.0,>=9.2.0 in /Users/brianpisaneschi/Library/CloudStorage/OneDrive-CFAInstitute/Coding/GitHub/The-Automation-Ahead/conda-env/lib/python3.11/site-packages (from moviepy) (11.2.1)\n",
      "Requirement already satisfied: tqdm in /Users/brianpisaneschi/Library/CloudStorage/OneDrive-CFAInstitute/Coding/GitHub/The-Automation-Ahead/conda-env/lib/python3.11/site-packages (from proglog<=1.0.0->moviepy) (4.67.1)\n",
      "Using cached moviepy-2.2.1-py3-none-any.whl (129 kB)\n",
      "Installing collected packages: moviepy\n",
      "Successfully installed moviepy-2.2.1\n",
      "Note: you may need to restart the kernel to use updated packages.\n"
     ]
    }
   ],
   "source": [
    "pip install moviepy"
   ]
  },
  {
   "cell_type": "code",
   "execution_count": null,
   "id": "ab4e97eb",
   "metadata": {},
   "outputs": [],
   "source": [
    "from moviepy import VideoFileClip\n",
    "from pathlib import Path\n",
    "\n",
    "# Define input and output folders\n",
    "input_folder = Path(\"./Retrieval Augmented Generation/Visualizations/media/videos/Visualizations/480p15\")\n",
    "output_folder = Path(\"./Retrieval Augmented Generation/Visualizations/media/gifs\")\n",
    "\n",
    "# Make sure the output folder exists\n",
    "output_folder.mkdir(parents=True, exist_ok=True)\n",
    "\n",
    "files = input_folder.glob(\"*.mp4\")\n",
    "\n",
    "# Loop through all MP4 files and convert to GIF\n",
    "for mp4_file in files:\n",
    "    gif_file = output_folder / (mp4_file.stem + \".gif\")\n",
    "    \n",
    "    print(f\"Converting {mp4_file.name} to {gif_file.name}...\")\n",
    "\n",
    "    # Load video and write GIF\n",
    "    clip = VideoFileClip(str(mp4_file))\n",
    "    clip.write_gif(str(gif_file), fps=10)  # adjust fps as needed\n",
    "\n",
    "print(\"✅ Conversion complete!\")"
   ]
  }
 ],
 "metadata": {
  "kernelspec": {
   "display_name": "Python 3",
   "language": "python",
   "name": "python3"
  },
  "language_info": {
   "codemirror_mode": {
    "name": "ipython",
    "version": 3
   },
   "file_extension": ".py",
   "mimetype": "text/x-python",
   "name": "python",
   "nbconvert_exporter": "python",
   "pygments_lexer": "ipython3",
   "version": "3.11.11"
  }
 },
 "nbformat": 4,
 "nbformat_minor": 5
}
